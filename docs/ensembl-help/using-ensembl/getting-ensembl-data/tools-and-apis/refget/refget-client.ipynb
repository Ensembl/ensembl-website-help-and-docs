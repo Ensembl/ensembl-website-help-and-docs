{
 "cells": [
  {
   "cell_type": "markdown",
   "metadata": {},
   "source": [
    "# Accessing Ensembl sequences from GraphQL and refget\n",
    "\n",
    "The following python notebook details how to access Ensembl sequences from refget adter resolving a query from the Ensembl GraphQL service.\n",
    "\n",
    "## Use of async\n",
    "\n",
    "The following code uses `async` and `await` commands throughout the code due to it executing within a Python notebook. The following code can be editted to run in a synchronous environment. Please consult [`gql`](https://gql.readthedocs.io/en/latest/async/async_usage.html) documentation about the steps used to convert the code into an async compatible tool."
   ]
  },
  {
   "cell_type": "code",
   "execution_count": 1,
   "metadata": {},
   "outputs": [],
   "source": [
    "from gql import Client, gql\n",
    "from gql.transport.aiohttp import AIOHTTPTransport\n",
    "import requests\n",
    "import refget"
   ]
  },
  {
   "cell_type": "markdown",
   "metadata": {},
   "source": [
    "## Global variables\n",
    "\n",
    "We define global variables to execute here. Specifically the target GraphQL and refget server alongside the assembly and gene we wish to search for. We have specified `GRCh38.p14` and the gene `JAG1`."
   ]
  },
  {
   "cell_type": "code",
   "execution_count": 2,
   "metadata": {},
   "outputs": [],
   "source": [
    "# Default endpoints\n",
    "ensembl_graphql = \"https://beta.ensembl.org/data/graphql\"\n",
    "ensembl_refget = \"https://beta.ensembl.org/data/refget\"\n",
    "\n",
    "# If set to true we will use the requests version\n",
    "# to communicate with refget. Otherwise we use\n",
    "# the python refget client library\n",
    "use_requests_refget = True\n",
    "\n",
    "# Entities to query for\n",
    "gca = \"GCA_000001405.29\"\n",
    "gene_symbol = \"JAG1\""
   ]
  },
  {
   "cell_type": "code",
   "execution_count": null,
   "metadata": {},
   "outputs": [],
   "source": []
  },
  {
   "cell_type": "markdown",
   "metadata": {},
   "source": [
    "## Code\n",
    "\n",
    "The following methods search GraphQL using the `gql` library and can retrieve sequence from refget using a custom method called `resolve_sequence()` or via the official [refget python client](https://pypi.org/project/refget/)."
   ]
  },
  {
   "cell_type": "code",
   "execution_count": 3,
   "metadata": {},
   "outputs": [],
   "source": [
    "async def get_genome_id(session, gca):\n",
    "    genome_id_graphql_query = gql(\n",
    "        \"\"\"query GetGenomeID($assembly_accession_id: String!) {\n",
    "    genomes(\n",
    "      by_keyword: {\n",
    "        assembly_accession_id: $assembly_accession_id\n",
    "      }) \n",
    "    {\n",
    "      genome_id\n",
    "    }\n",
    "  }\"\"\"\n",
    "    )\n",
    "\n",
    "    genome_id_result = await session.execute(\n",
    "        genome_id_graphql_query, variable_values={\"assembly_accession_id\": gca}\n",
    "    )\n",
    "    return genome_id_result[\"genomes\"][0][\"genome_id\"]\n",
    "\n",
    "\n",
    "async def get_transcripts(session, symbol, genome_id):\n",
    "    # Gene query for all transcripts associated with a gene symbol\n",
    "    gene_query = gql(\n",
    "        \"\"\"\n",
    "      query GetTranscriptSequences($symbol: String!, $genome_id: String!) {\n",
    "        genes(\n",
    "          by_symbol: {symbol: $symbol, genome_id: $genome_id}\n",
    "        ) {\n",
    "          stable_id\n",
    "          unversioned_stable_id\n",
    "          version\n",
    "          symbol\n",
    "          transcripts {\n",
    "            stable_id\n",
    "            symbol\n",
    "            type\n",
    "            metadata {\n",
    "              mane {\n",
    "                value\n",
    "              }\n",
    "              canonical {\n",
    "                value\n",
    "              }\n",
    "            }\n",
    "            product_generating_contexts {\n",
    "              product_type\n",
    "              cdna {\n",
    "                sequence {\n",
    "                  checksum\n",
    "                }\n",
    "              }\n",
    "              cds {\n",
    "                sequence {\n",
    "                  checksum\n",
    "                }\n",
    "              }\n",
    "              product_type\n",
    "              product {\n",
    "                stable_id\n",
    "                sequence {\n",
    "                  checksum\n",
    "                }\n",
    "              }\n",
    "            }\n",
    "          }\n",
    "        }\n",
    "      }\n",
    "  \"\"\"\n",
    "    )\n",
    "    result = await session.execute(\n",
    "        gene_query, variable_values={\"genome_id\": genome_id, \"symbol\": symbol}\n",
    "    )\n",
    "    return result\n",
    "\n",
    "\n",
    "def resolve_sequence(checksum, refget_url=ensembl_refget, start=None, end=None):\n",
    "    url = f\"{refget_url}/sequence/{checksum}\"\n",
    "    params = {}\n",
    "    if start:\n",
    "        params[\"start\"] = start\n",
    "    if end:\n",
    "        params[\"end\"] = end\n",
    "    r = requests.get(url, headers={\"Accept\": \"text/plain\"}, params=params)\n",
    "    r.raise_for_status()\n",
    "    return r.text\n",
    "\n",
    "\n",
    "def refget_client_resolve_sequence(checksum, refget_url=ensembl_refget, start=None, end=None):\n",
    "    rgc = refget.RefGetClient(f\"{refget_url}/sequence/\")\n",
    "    sequence = rgc.refget(checksum, start=start, end=end)\n",
    "    return sequence\n"
   ]
  },
  {
   "cell_type": "markdown",
   "metadata": {},
   "source": [
    "## Main method\n",
    "\n",
    "Our main method will get the `genome_id`, then the associcated transcripts, loop through to find the canonical transcript and print a summary of the sequence."
   ]
  },
  {
   "cell_type": "code",
   "execution_count": 4,
   "metadata": {},
   "outputs": [],
   "source": [
    "async def main():\n",
    "    # Select your transport with a defined url endpoint\n",
    "    transport = AIOHTTPTransport(url=ensembl_graphql)\n",
    "\n",
    "    # Create a GraphQL client using the defined transport. We have defined an async session\n",
    "    async with Client(transport=transport, fetch_schema_from_transport=True) as session:\n",
    "        genome_id = await get_genome_id(session, gca)\n",
    "        genes = await get_transcripts(session, symbol=gene_symbol, genome_id=genome_id)\n",
    "\n",
    "        for gene in genes[\"genes\"]:\n",
    "            for transcript in gene[\"transcripts\"]:\n",
    "                if transcript[\"metadata\"][\"canonical\"]:\n",
    "                    for pgc in transcript[\"product_generating_contexts\"]:\n",
    "                        for type in (\"cdna\", \"cds\", \"product\"):\n",
    "                            checksum = pgc[type][\"sequence\"][\"checksum\"]\n",
    "                            if use_requests_refget:\n",
    "                                seq = resolve_sequence(checksum)\n",
    "                            else:\n",
    "                                seq = refget_client_resolve_sequence(checksum)\n",
    "                            stable_id = transcript[\"stable_id\"]\n",
    "                            if \"stable_id\" in pgc[type]:\n",
    "                                stable_id = pgc[type][\"stable_id\"]\n",
    "                            print(\n",
    "                                f\"{stable_id}\\t{type}\\tlength:{len(seq)}\\tretrieved_checksum:{checksum}\"\n",
    "                            )\n"
   ]
  },
  {
   "cell_type": "code",
   "execution_count": 5,
   "metadata": {},
   "outputs": [
    {
     "name": "stdout",
     "output_type": "stream",
     "text": [
      "ENST00000254958.10\tcdna\tlength:5940\tretrieved_checksum:d8d95cac5218b333fba43ed6ebe4b017\n",
      "ENST00000254958.10\tcds\tlength:3657\tretrieved_checksum:27ec2b034fb386c69f48653d2f18daf2\n",
      "ENSP00000254958.4\tproduct\tlength:1218\tretrieved_checksum:84706f0ee2a4d23ae4050036e62dac5d\n"
     ]
    }
   ],
   "source": [
    "# Main code block which runs the main method above\n",
    "# Note the use of await which has our code await for main() \n",
    "# to finish executing\n",
    "await main()"
   ]
  }
 ],
 "metadata": {
  "kernelspec": {
   "display_name": "Python 3",
   "language": "python",
   "name": "python3"
  },
  "language_info": {
   "codemirror_mode": {
    "name": "ipython",
    "version": 3
   },
   "file_extension": ".py",
   "mimetype": "text/x-python",
   "name": "python",
   "nbconvert_exporter": "python",
   "pygments_lexer": "ipython3",
   "version": "3.9.4"
  }
 },
 "nbformat": 4,
 "nbformat_minor": 2
}
